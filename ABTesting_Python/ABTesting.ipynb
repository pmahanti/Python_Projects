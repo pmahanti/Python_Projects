{
 "cells": [
  {
   "cell_type": "markdown",
   "metadata": {},
   "source": [
    "# initializations"
   ]
  },
  {
   "cell_type": "code",
   "execution_count": 1,
   "metadata": {},
   "outputs": [],
   "source": [
    "# import libraries\n",
    "import numpy as np\n",
    "import pandas as pd\n",
    "import matplotlib.pyplot as plt\n",
    "\n",
    "np.random.seed(42)"
   ]
  },
  {
   "cell_type": "code",
   "execution_count": 39,
   "metadata": {
    "scrolled": true
   },
   "outputs": [],
   "source": [
    "# load datasets\n",
    "df = pd.read_excel('ABTest.xls')"
   ]
  },
  {
   "cell_type": "code",
   "execution_count": 11,
   "metadata": {},
   "outputs": [
    {
     "data": {
      "text/html": [
       "<div>\n",
       "<style scoped>\n",
       "    .dataframe tbody tr th:only-of-type {\n",
       "        vertical-align: middle;\n",
       "    }\n",
       "\n",
       "    .dataframe tbody tr th {\n",
       "        vertical-align: top;\n",
       "    }\n",
       "\n",
       "    .dataframe thead th {\n",
       "        text-align: right;\n",
       "    }\n",
       "</style>\n",
       "<table border=\"1\" class=\"dataframe\">\n",
       "  <thead>\n",
       "    <tr style=\"text-align: right;\">\n",
       "      <th></th>\n",
       "      <th>group</th>\n",
       "      <th>action</th>\n",
       "    </tr>\n",
       "  </thead>\n",
       "  <tbody>\n",
       "    <tr>\n",
       "      <th>0</th>\n",
       "      <td>experiment</td>\n",
       "      <td>view</td>\n",
       "    </tr>\n",
       "    <tr>\n",
       "      <th>1</th>\n",
       "      <td>control</td>\n",
       "      <td>view</td>\n",
       "    </tr>\n",
       "    <tr>\n",
       "      <th>2</th>\n",
       "      <td>control</td>\n",
       "      <td>view and click</td>\n",
       "    </tr>\n",
       "    <tr>\n",
       "      <th>3</th>\n",
       "      <td>control</td>\n",
       "      <td>view and click</td>\n",
       "    </tr>\n",
       "    <tr>\n",
       "      <th>4</th>\n",
       "      <td>control</td>\n",
       "      <td>view</td>\n",
       "    </tr>\n",
       "  </tbody>\n",
       "</table>\n",
       "</div>"
      ],
      "text/plain": [
       "        group          action\n",
       "0  experiment            view\n",
       "1     control            view\n",
       "2     control  view and click\n",
       "3     control  view and click\n",
       "4     control            view"
      ]
     },
     "execution_count": 11,
     "metadata": {},
     "output_type": "execute_result"
    }
   ],
   "source": [
    "# quick check the dataframe with head and info\n",
    "df.head()\n"
   ]
  },
  {
   "cell_type": "code",
   "execution_count": 12,
   "metadata": {},
   "outputs": [
    {
     "name": "stdout",
     "output_type": "stream",
     "text": [
      "<class 'pandas.core.frame.DataFrame'>\n",
      "RangeIndex: 3757 entries, 0 to 3756\n",
      "Data columns (total 2 columns):\n",
      " #   Column  Non-Null Count  Dtype \n",
      "---  ------  --------------  ----- \n",
      " 0   group   3757 non-null   object\n",
      " 1   action  3757 non-null   object\n",
      "dtypes: object(2)\n",
      "memory usage: 58.8+ KB\n"
     ]
    }
   ],
   "source": [
    "df.info()"
   ]
  },
  {
   "cell_type": "markdown",
   "metadata": {},
   "source": [
    "## set up hypothesis testing"
   ]
  },
  {
   "cell_type": "code",
   "execution_count": 16,
   "metadata": {
    "scrolled": true
   },
   "outputs": [
    {
     "data": {
      "text/plain": [
       "experiment    1881\n",
       "control       1876\n",
       "Name: group, dtype: int64"
      ]
     },
     "execution_count": 16,
     "metadata": {},
     "output_type": "execute_result"
    }
   ],
   "source": [
    "df['group'].value_counts()"
   ]
  },
  {
   "cell_type": "code",
   "execution_count": 17,
   "metadata": {},
   "outputs": [
    {
     "data": {
      "text/plain": [
       "view              3082\n",
       "view and click     675\n",
       "Name: action, dtype: int64"
      ]
     },
     "execution_count": 17,
     "metadata": {},
     "output_type": "execute_result"
    }
   ],
   "source": [
    "df['action'].value_counts()"
   ]
  },
  {
   "cell_type": "markdown",
   "metadata": {},
   "source": [
    "# experiment group = group that received the new input\n",
    "# control    group = group that did not receive the new input\n",
    "# CTR = number of clicks advertisers receive on their ads per number of impressions ( No. of impressions = No. of views (click and no click) )"
   ]
  },
  {
   "cell_type": "markdown",
   "metadata": {},
   "source": [
    "Hypothesis testing steps: (1) specify null hypothesis (2) specify alternate hypothesis (3) Set significance level (4) Calculate corresponding p-value (5) Draw conclusion"
   ]
  },
  {
   "cell_type": "markdown",
   "metadata": {},
   "source": [
    "Setting the is significance level is setting the confidence in rejecting the null hypothesis\n",
    "If significance level is set at 0.05, it means that the null hypothesis is rejected at 95% confidence"
   ]
  },
  {
   "cell_type": "markdown",
   "metadata": {},
   "source": [
    "P-value is the probability of observing the statistic if the null hypothesis is true"
   ]
  },
  {
   "cell_type": "markdown",
   "metadata": {},
   "source": [
    "Null Hypothesis H0: The click through rate associated with the new ad is less than that associated with the old ad,\n",
    "which means that the old ad is better than than new one\n",
    "Alternate Hypothesis H1: CTR_new_ad > CTR_old_ad : New ad is better"
   ]
  },
  {
   "cell_type": "code",
   "execution_count": 23,
   "metadata": {},
   "outputs": [
    {
     "data": {
      "text/plain": [
       "0.19349680170575692"
      ]
     },
     "execution_count": 23,
     "metadata": {},
     "output_type": "execute_result"
    }
   ],
   "source": [
    "# get dataframe with all observations from control group\n",
    "control_df = df.query('group==\"control\"')\n",
    "control_CTR = control_df.query('action==\"view and click\"').index.nunique()/control_df.index.nunique()\n",
    "control_CTR"
   ]
  },
  {
   "cell_type": "code",
   "execution_count": 24,
   "metadata": {},
   "outputs": [
    {
     "data": {
      "text/plain": [
       "0.16586921850079744"
      ]
     },
     "execution_count": 24,
     "metadata": {},
     "output_type": "execute_result"
    }
   ],
   "source": [
    "# get dataframe with all observations from exp group\n",
    "experiment_df = df.query('group==\"experiment\"')\n",
    "experiment_CTR = experiment_df.query('action==\"view and click\"').index.nunique()/experiment_df.index.nunique()\n",
    "experiment_CTR"
   ]
  },
  {
   "cell_type": "code",
   "execution_count": 25,
   "metadata": {},
   "outputs": [],
   "source": [
    "# get difference in CTR for both groups\n",
    "diff_CTR = experiment_CTR - control_CTR"
   ]
  },
  {
   "cell_type": "code",
   "execution_count": 29,
   "metadata": {},
   "outputs": [],
   "source": [
    "#bootstraping\n",
    "differences=[]\n",
    "size=df.shape[0]\n",
    "for I in range(10000):\n",
    "    sample=df.sample(size, replace=True)\n",
    "    control_df = sample.query('group==\"control\"')\n",
    "    control_CTR = control_df.query('action==\"view and click\"').index.nunique()/control_df.index.nunique()\n",
    "    experiment_df = sample.query('group==\"experiment\"')\n",
    "    experiment_CTR = experiment_df.query('action==\"view and click\"').index.nunique()/experiment_df.index.nunique()\n",
    "    diff_CTR = experiment_CTR - control_CTR\n",
    "    differences.append(diff_CTR)\n",
    "    "
   ]
  },
  {
   "cell_type": "markdown",
   "metadata": {},
   "source": [
    "central limit\n",
    "theorem states that if you have a population with the mean \n",
    "and standard deviation Sigma and take sufficiently large random\n",
    "samples from the population with replacement, then\n",
    "the distribution of the sample means would be approximately\n",
    "normally distributed."
   ]
  },
  {
   "cell_type": "code",
   "execution_count": 30,
   "metadata": {},
   "outputs": [
    {
     "data": {
      "text/plain": [
       "(array([  22.,  140.,  664., 1721., 2755., 2632., 1465.,  503.,   89.,\n",
       "           9.]),\n",
       " array([-0.06209659, -0.05504038, -0.04798418, -0.04092797, -0.03387176,\n",
       "        -0.02681555, -0.01975934, -0.01270314, -0.00564693,  0.00140928,\n",
       "         0.00846549]),\n",
       " <BarContainer object of 10 artists>)"
      ]
     },
     "execution_count": 30,
     "metadata": {},
     "output_type": "execute_result"
    },
    {
     "data": {
      "image/png": "[encoded data removed]",
      "text/plain": [
       "<Figure size 432x288 with 1 Axes>"
      ]
     },
     "metadata": {
      "needs_background": "light"
     },
     "output_type": "display_data"
    }
   ],
   "source": [
    "#plot sampling distribution\n",
    "differences=np.array(differences)\n",
    "plt.hist(differences)"
   ]
  },
  {
   "cell_type": "code",
   "execution_count": 35,
   "metadata": {},
   "outputs": [
    {
     "data": {
      "text/plain": [
       "<matplotlib.lines.Line2D at 0x1d63e9e2c50>"
      ]
     },
     "execution_count": 35,
     "metadata": {},
     "output_type": "execute_result"
    },
    {
     "data": {
      "image/png": "[encoded data removed]",
      "text/plain": [
       "<Figure size 432x288 with 1 Axes>"
      ]
     },
     "metadata": {
      "needs_background": "light"
     },
     "output_type": "display_data"
    }
   ],
   "source": [
    "#simulate distribution under null hypothesis\n",
    "null_hypothesis=np.random.normal(0,differences.std(),differences.size)\n",
    "\n",
    "#plot the null distribution\n",
    "plt.hist(null_hypothesis)\n",
    "plt.axvline(diff_CTR,c='red')"
   ]
  },
  {
   "cell_type": "code",
   "execution_count": 36,
   "metadata": {},
   "outputs": [
    {
     "data": {
      "text/plain": [
       "0.9942"
      ]
     },
     "execution_count": 36,
     "metadata": {},
     "output_type": "execute_result"
    }
   ],
   "source": [
    "# compute P-value\n",
    "(null_hypothesis>diff_CTR).mean()"
   ]
  },
  {
   "cell_type": "markdown",
   "metadata": {},
   "source": [
    "P value is the probability of observing your statistic if the null hypothesis is true.\n",
    "Confidence  level = 1 - alpha = 95%\n",
    "if the P-value < 0.05,  we are 95% confident that we can reject the null hypothesis.\n",
    "The P value is 0.9986: We fail to reject the null hypothesis.\n",
    "\n",
    "A p-value less than 0.05 (typically ≤ 0.05) is statistically significant. ... A p-value higher than 0.05 (> 0.05) is not statistically significant and indicates strong evidence for the null hypothesis. This means we retain the null hypothesis and reject the alternative hypothesis."
   ]
  },
  {
   "cell_type": "code",
   "execution_count": null,
   "metadata": {},
   "outputs": [],
   "source": []
  }
 ],
 "metadata": {
  "kernelspec": {
   "display_name": "Python 3",
   "language": "python",
   "name": "python3"
  },
  "language_info": {
   "codemirror_mode": {
    "name": "ipython",
    "version": 3
   },
   "file_extension": ".py",
   "mimetype": "text/x-python",
   "name": "python",
   "nbconvert_exporter": "python",
   "pygments_lexer": "ipython3",
   "version": "3.6.9"
  }
 },
 "nbformat": 4,
 "nbformat_minor": 4
}
